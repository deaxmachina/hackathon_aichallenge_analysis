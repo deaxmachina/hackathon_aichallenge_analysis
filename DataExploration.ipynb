{
 "cells": [
  {
   "cell_type": "code",
   "execution_count": 1,
   "metadata": {},
   "outputs": [],
   "source": [
    "import pandas as pd \n",
    "import numpy as np\n",
    "import os \n",
    "import json"
   ]
  },
  {
   "cell_type": "markdown",
   "metadata": {},
   "source": [
    "# Read in Data "
   ]
  },
  {
   "cell_type": "markdown",
   "metadata": {},
   "source": [
    "### Clean data for all time"
   ]
  },
  {
   "cell_type": "code",
   "execution_count": 2,
   "metadata": {},
   "outputs": [],
   "source": [
    "data_name = \"data.csv\" \n",
    "df = pd.read_csv(data_name)"
   ]
  },
  {
   "cell_type": "markdown",
   "metadata": {},
   "source": [
    "### Put together countries info \n",
    "- Pull in all the separate excel sheets to put together a country lookup "
   ]
  },
  {
   "cell_type": "code",
   "execution_count": 3,
   "metadata": {},
   "outputs": [],
   "source": [
    "data_name_raw = \"CDP Community GHG Emissions 2016-2020.xlsx\""
   ]
  },
  {
   "cell_type": "code",
   "execution_count": 4,
   "metadata": {},
   "outputs": [],
   "source": [
    "cols = ['Organization', 'City', 'Country', 'CDP Region', \"City Location\"]\n",
    "cols2 = ['Organization', 'City', 'Country', 'Region', \"City Location\"]"
   ]
  },
  {
   "cell_type": "code",
   "execution_count": 5,
   "metadata": {},
   "outputs": [
    {
     "name": "stderr",
     "output_type": "stream",
     "text": [
      "/Users/user/Library/Python/3.8/lib/python/site-packages/openpyxl/worksheet/_reader.py:300: UserWarning: Unknown extension is not supported and will be removed\n",
      "  warn(msg)\n"
     ]
    }
   ],
   "source": [
    "df_2020 = pd.read_excel(data_name_raw, sheet_name=\"Received in 2020\")\n",
    "cities_2020 = df_2020[cols].drop_duplicates(subset=['Organization'])\n",
    "\n",
    "df_2019 = pd.read_excel(data_name_raw, sheet_name=\"Received in 2019\")\n",
    "cities_2019 = df_2019[cols].drop_duplicates(subset=['Organization'])\n",
    "\n",
    "df_2018 = pd.read_excel(data_name_raw, sheet_name=\"Received in 2018\")\n",
    "cities_2018 = df_2018[cols].drop_duplicates(subset=['Organization'])\n",
    "\n",
    "df_2017 = pd.read_excel(data_name_raw, sheet_name=\"Received in 2017\")\n",
    "cities_2017 = df_2017[cols2].drop_duplicates(subset=['Organization'])\n",
    "cities_2017.columns = cols\n",
    "\n",
    "\n",
    "cities_all = pd.concat([cities_2017, cities_2018, cities_2019, cities_2020])\n",
    "cities_all = cities_all.drop_duplicates(subset=['Organization'])\n",
    "\n",
    "# rename because the final data has the organisation as city \n",
    "cities_all.columns = ['City', 'CityName', 'Country', 'Region', \"City Location\"]\n",
    "\n",
    "# Autralia appears in 2 different places \n",
    "cities_all = cities_all[~((cities_all['Region'] == 'Southeast Asia and Oceania') & (cities_all['Country'] == 'Australia'))]\n"
   ]
  },
  {
   "cell_type": "markdown",
   "metadata": {},
   "source": [
    "## Data Cleaning "
   ]
  },
  {
   "cell_type": "markdown",
   "metadata": {},
   "source": [
    "the years should be integers & we don't need data where the year is missing"
   ]
  },
  {
   "cell_type": "code",
   "execution_count": 6,
   "metadata": {},
   "outputs": [],
   "source": [
    "df = df.replace('2015-07-15 - 2017-12-30', np.nan)\n",
    "df = df.dropna(subset=['Reporting Period'])"
   ]
  },
  {
   "cell_type": "markdown",
   "metadata": {},
   "source": [
    "clean and convert columns that should be floats or ints"
   ]
  },
  {
   "cell_type": "code",
   "execution_count": 7,
   "metadata": {},
   "outputs": [],
   "source": [
    "df['Reporting Period'] = df['Reporting Period'].astype(int)\n",
    "df['Year Reported'] = df['Year Reported'].astype(int)"
   ]
  },
  {
   "cell_type": "code",
   "execution_count": 8,
   "metadata": {},
   "outputs": [],
   "source": [
    "df['GHG/Capita'] = df['GHG/Capita']"
   ]
  },
  {
   "cell_type": "code",
   "execution_count": 9,
   "metadata": {},
   "outputs": [],
   "source": [
    "df['GHG/Capita'] = df['GHG/Capita'].replace(\n",
    "    {\n",
    "        \" -   \": -99,\n",
    "        ' 6,144.982 ': -99,\n",
    "        '#DIV/0!': -99,\n",
    "        ' 1,956.061 ': -99,\n",
    "        ' 1,385.454 ': -99,\n",
    "        ' 2,625.293 ': -99,\n",
    "        ' 5,818.133 ': -99,\n",
    "        \n",
    "    }\n",
    ").astype(float)\n",
    "df = df.loc[df['GHG/Capita'] != -99]"
   ]
  },
  {
   "cell_type": "markdown",
   "metadata": {},
   "source": [
    "#### Add the cities info to the data "
   ]
  },
  {
   "cell_type": "code",
   "execution_count": 10,
   "metadata": {},
   "outputs": [],
   "source": [
    "df = df.set_index('City').join(cities_all.set_index('City')).reset_index()"
   ]
  },
  {
   "cell_type": "markdown",
   "metadata": {},
   "source": [
    "#### Make sure that al the columns are the right type and fill missing strings with \"missing\" and missing numbers with -99"
   ]
  },
  {
   "cell_type": "code",
   "execution_count": 11,
   "metadata": {},
   "outputs": [],
   "source": [
    "df['City'] = df['City'].fillna(\"missing\")\n",
    "df['Reporting Period'] = df['Reporting Period'].astype(int)#.fillna(-99)\n",
    "df['Total emissions (metric tonnes CO2e)'] = df['Total emissions (metric tonnes CO2e)'].astype(float)#.fillna(-99)\n",
    "df['GHG/Capita'] = df['GHG/Capita'].astype(float)#.fillna(-99)\n",
    "df[' Population '] = df[' Population '].astype(float)#.fillna(-99)\n",
    "df['Year Reported'] = df['Year Reported'].astype(int)#.fillna(-99)\n",
    "df['Methodology/Protocol'] = df['Methodology/Protocol'].fillna(\"missing\")\n",
    "df['CityName'] = df['CityName'].fillna(\"missing\")\n",
    "df['Country'] = df['Country'].fillna(\"missing\")\n",
    "df['Region'] = df['Region'].fillna(\"missing\")\n",
    "df['City Location'] = df['City Location'].fillna(\"location\")"
   ]
  },
  {
   "cell_type": "markdown",
   "metadata": {},
   "source": [
    "Remove the duplicate country names"
   ]
  },
  {
   "cell_type": "code",
   "execution_count": 12,
   "metadata": {},
   "outputs": [],
   "source": [
    "# This is to replace the duplicate country names \n",
    "# note that there are also other issues \n",
    "duplicate_country_names_dict = {\n",
    "    'United Kingdom of Great Britain and Northern Ireland': 'United Kingdom',\n",
    "    'United States of America': 'USA' \n",
    "}"
   ]
  },
  {
   "cell_type": "code",
   "execution_count": 13,
   "metadata": {},
   "outputs": [],
   "source": [
    "df['Country'] = df['Country'].replace(duplicate_country_names_dict)"
   ]
  },
  {
   "cell_type": "markdown",
   "metadata": {},
   "source": [
    "# Exploration "
   ]
  },
  {
   "cell_type": "code",
   "execution_count": 14,
   "metadata": {},
   "outputs": [
    {
     "data": {
      "text/plain": [
       "332"
      ]
     },
     "execution_count": 14,
     "metadata": {},
     "output_type": "execute_result"
    }
   ],
   "source": [
    "len(df['City'].unique().tolist())"
   ]
  },
  {
   "cell_type": "code",
   "execution_count": 15,
   "metadata": {},
   "outputs": [
    {
     "data": {
      "text/plain": [
       "array(['Europe', 'South and West Asia', 'North America', 'Africa',\n",
       "       'Latin America', 'missing', 'South Asia and Oceania', 'East Asia',\n",
       "       'Southeast Asia and Oceania'], dtype=object)"
      ]
     },
     "execution_count": 15,
     "metadata": {},
     "output_type": "execute_result"
    }
   ],
   "source": [
    "df['Region'].unique()"
   ]
  },
  {
   "cell_type": "code",
   "execution_count": 16,
   "metadata": {},
   "outputs": [
    {
     "data": {
      "text/plain": [
       "Region\n",
       "East Asia                     2.964347e+07\n",
       "Africa                        1.688149e+07\n",
       "South Asia and Oceania        7.359037e+06\n",
       "Latin America                 7.358500e+06\n",
       "missing                       7.024983e+06\n",
       "North America                 6.564378e+06\n",
       "South and West Asia           6.395928e+06\n",
       "Europe                        4.344867e+06\n",
       "Southeast Asia and Oceania    1.943736e+06\n",
       "Name: Total emissions (metric tonnes CO2e), dtype: float64"
      ]
     },
     "execution_count": 16,
     "metadata": {},
     "output_type": "execute_result"
    }
   ],
   "source": [
    "df.dropna(subset=[\"Total emissions (metric tonnes CO2e)\"]).groupby('Region')['Total emissions (metric tonnes CO2e)'].mean().sort_values(ascending=False)"
   ]
  },
  {
   "cell_type": "markdown",
   "metadata": {},
   "source": [
    "#### Number of years\n",
    "Observation: There is very little data that spans multiple years. Maybe it would make the most sense to consider only data in a certain period? e.g. \n",
    "- 2010, 2011, 2012, 2013, 2014, 2015, 2016, 2017, 2018 : would give us at most 20 cities to compare \n",
    "- 2013, 2014, 2015, 2016, 2017 : would give us at most 49 cities to compare"
   ]
  },
  {
   "cell_type": "code",
   "execution_count": 17,
   "metadata": {},
   "outputs": [
    {
     "data": {
      "text/plain": [
       "2015    133\n",
       "2014    104\n",
       "2016    100\n",
       "2013     68\n",
       "2017     48\n",
       "2012     30\n",
       "2010     22\n",
       "2018     22\n",
       "2011     13\n",
       "2019      9\n",
       "2009      6\n",
       "2005      4\n",
       "2007      3\n",
       "2008      3\n",
       "2006      1\n",
       "Name: Reporting Period, dtype: int64"
      ]
     },
     "execution_count": 17,
     "metadata": {},
     "output_type": "execute_result"
    }
   ],
   "source": [
    "df['Reporting Period'].value_counts()"
   ]
  },
  {
   "cell_type": "markdown",
   "metadata": {},
   "source": [
    "#### How many years do cities appear in \n",
    "Observations after the exploration\n",
    "- There are 144 cities with 2 or more records\n",
    "- There are 67 cities with 3 or more records\n",
    "- There are 22 cities with 4 or more records\n",
    "- There are only 6 cities with 5 records \n",
    "- There are no cities with more than 5 records\n",
    "- Due to the very limited continuous data, it is best to not limit ourselves to a specific year range, and not to try to match the data so that we have only cities which all have data for the selected years. \n",
    "- We will instead take the top cities (e.g. 3 or more records or 4 or more records) regardless of which years these records are for "
   ]
  },
  {
   "cell_type": "code",
   "execution_count": 18,
   "metadata": {},
   "outputs": [],
   "source": [
    "cities_years = df.groupby('City')['Reporting Period'].count().sort_values(ascending=False)\n",
    "cities_years = pd.DataFrame(cities_years).reset_index()\n",
    "cities_years.columns = ['City', 'num_years']"
   ]
  },
  {
   "cell_type": "code",
   "execution_count": 19,
   "metadata": {},
   "outputs": [
    {
     "data": {
      "text/html": [
       "<div>\n",
       "<style scoped>\n",
       "    .dataframe tbody tr th:only-of-type {\n",
       "        vertical-align: middle;\n",
       "    }\n",
       "\n",
       "    .dataframe tbody tr th {\n",
       "        vertical-align: top;\n",
       "    }\n",
       "\n",
       "    .dataframe thead th {\n",
       "        text-align: right;\n",
       "    }\n",
       "</style>\n",
       "<table border=\"1\" class=\"dataframe\">\n",
       "  <thead>\n",
       "    <tr style=\"text-align: right;\">\n",
       "      <th></th>\n",
       "      <th>City</th>\n",
       "      <th>num_years</th>\n",
       "    </tr>\n",
       "  </thead>\n",
       "  <tbody>\n",
       "    <tr>\n",
       "      <th>0</th>\n",
       "      <td>Municipality of Curitiba</td>\n",
       "      <td>5</td>\n",
       "    </tr>\n",
       "    <tr>\n",
       "      <th>1</th>\n",
       "      <td>City of Calgary</td>\n",
       "      <td>5</td>\n",
       "    </tr>\n",
       "    <tr>\n",
       "      <th>2</th>\n",
       "      <td>Government of Hong Kong Special Administrative...</td>\n",
       "      <td>5</td>\n",
       "    </tr>\n",
       "    <tr>\n",
       "      <th>3</th>\n",
       "      <td>City of Sydney</td>\n",
       "      <td>5</td>\n",
       "    </tr>\n",
       "    <tr>\n",
       "      <th>4</th>\n",
       "      <td>City of Austin</td>\n",
       "      <td>5</td>\n",
       "    </tr>\n",
       "    <tr>\n",
       "      <th>...</th>\n",
       "      <td>...</td>\n",
       "      <td>...</td>\n",
       "    </tr>\n",
       "    <tr>\n",
       "      <th>327</th>\n",
       "      <td>City of Roanoke</td>\n",
       "      <td>1</td>\n",
       "    </tr>\n",
       "    <tr>\n",
       "      <th>328</th>\n",
       "      <td>City of Rochester</td>\n",
       "      <td>1</td>\n",
       "    </tr>\n",
       "    <tr>\n",
       "      <th>329</th>\n",
       "      <td>City of San Diego</td>\n",
       "      <td>1</td>\n",
       "    </tr>\n",
       "    <tr>\n",
       "      <th>330</th>\n",
       "      <td>City of Santa Barbara, CA</td>\n",
       "      <td>1</td>\n",
       "    </tr>\n",
       "    <tr>\n",
       "      <th>331</th>\n",
       "      <td>Yilan County Government</td>\n",
       "      <td>1</td>\n",
       "    </tr>\n",
       "  </tbody>\n",
       "</table>\n",
       "<p>332 rows × 2 columns</p>\n",
       "</div>"
      ],
      "text/plain": [
       "                                                  City  num_years\n",
       "0                             Municipality of Curitiba          5\n",
       "1                                      City of Calgary          5\n",
       "2    Government of Hong Kong Special Administrative...          5\n",
       "3                                       City of Sydney          5\n",
       "4                                       City of Austin          5\n",
       "..                                                 ...        ...\n",
       "327                                    City of Roanoke          1\n",
       "328                                  City of Rochester          1\n",
       "329                                  City of San Diego          1\n",
       "330                          City of Santa Barbara, CA          1\n",
       "331                            Yilan County Government          1\n",
       "\n",
       "[332 rows x 2 columns]"
      ]
     },
     "execution_count": 19,
     "metadata": {},
     "output_type": "execute_result"
    }
   ],
   "source": [
    "cities_years"
   ]
  },
  {
   "cell_type": "markdown",
   "metadata": {},
   "source": [
    "#### Extract cities based on how many records there are available for them "
   ]
  },
  {
   "cell_type": "code",
   "execution_count": 20,
   "metadata": {},
   "outputs": [],
   "source": [
    "def get_cities_by_number_years_reported(num_years_reported):\n",
    "    cities = cities_years[cities_years['num_years']>=num_years_reported]['City'].tolist()\n",
    "    df_cities = df.loc[df['City'].apply(lambda x : x in cities)]\n",
    "    df_cities = df_cities.sort_values(by=['Total emissions (metric tonnes CO2e)'], ascending=False)\n",
    "    return df_cities"
   ]
  },
  {
   "cell_type": "code",
   "execution_count": 21,
   "metadata": {},
   "outputs": [],
   "source": [
    "df_cities_with_5_records = get_cities_by_number_years_reported(5)\n",
    "df_cities_with_5_records.to_csv(\"cities_with_5_records.csv\")"
   ]
  },
  {
   "cell_type": "code",
   "execution_count": 22,
   "metadata": {},
   "outputs": [],
   "source": [
    "df_cities_with_4_records = get_cities_by_number_years_reported(4)\n",
    "df_cities_with_4_records.to_csv(\"cities_with_4_records.csv\")"
   ]
  },
  {
   "cell_type": "code",
   "execution_count": 23,
   "metadata": {},
   "outputs": [],
   "source": [
    "df_cities_with_3_records = get_cities_by_number_years_reported(3)\n",
    "df_cities_with_3_records.to_csv(\"cities_with_3_records.csv\")"
   ]
  },
  {
   "cell_type": "code",
   "execution_count": 24,
   "metadata": {},
   "outputs": [],
   "source": [
    "df_cities_with_2_records = get_cities_by_number_years_reported(2)\n",
    "df_cities_with_2_records.to_csv(\"cities_with_2_records.csv\")"
   ]
  },
  {
   "cell_type": "markdown",
   "metadata": {},
   "source": [
    "## Tree Graph with all countries \n",
    "Transform the data into format for tree graph in d3 "
   ]
  },
  {
   "cell_type": "code",
   "execution_count": 26,
   "metadata": {},
   "outputs": [],
   "source": [
    "def get_cities_data(df):\n",
    "    emissions_total = pd.DataFrame(df.groupby('City')['Total emissions (metric tonnes CO2e)'].mean())\n",
    "    emissions_per_capita = pd.DataFrame(df.groupby('City')['GHG/Capita'].mean())\n",
    "    population = pd.DataFrame(df.groupby('City')[' Population '].mean())\n",
    "    \n",
    "    df_cities_all = df[['City', 'CityName', 'Country', 'Region']].dropna().drop_duplicates().set_index('City')\n",
    "    df_cities_all = df_cities_all.join(emissions_total).join(emissions_per_capita).join(population)\n",
    "    \n",
    "    # drop anything with nan's for now \n",
    "    df_cities_all = df_cities_all.dropna()\n",
    "    # drop all the cities with a missing coutnry for now \n",
    "    df_cities_all = df_cities_all[df_cities_all['Country'] != 'missing']\n",
    "    # drop duplicate cities \n",
    "    df_cities_all = df_cities_all.drop_duplicates(subset=['CityName'])\n",
    "    # sort by either total emissions or per capita \n",
    "    df_cities_all = df_cities_all.sort_values(by=[\"Total emissions (metric tonnes CO2e)\"], ascending=False)\n",
    "    \n",
    "    \n",
    "    return df_cities_all"
   ]
  },
  {
   "cell_type": "code",
   "execution_count": 27,
   "metadata": {},
   "outputs": [],
   "source": [
    "def get_children_for_region(region, df_with_cities):\n",
    "    region_countries = df_with_cities[df_with_cities['Region'] == region]['Country'].unique()\n",
    "    countries_children = []\n",
    "    for country in region_countries:\n",
    "        df_country = df_with_cities.loc[df_with_cities['Country'] == country]\n",
    "        cities_children = []\n",
    "        for city in df_country['CityName'].tolist():\n",
    "            cities_children.append({\n",
    "                \"name\": city, \n",
    "                \"nameCityRegion\": df_country.loc[df_country['CityName'] == city].index[0],\n",
    "                \"emissions_total\": df_country.loc[df_country['CityName'] == city]['Total emissions (metric tonnes CO2e)'][0],\n",
    "                \"emissions_per_capita\": df_country.loc[df_country['CityName'] == city]['GHG/Capita'][0],\n",
    "                \"population\": df_country.loc[df_country['CityName'] == city][' Population '][0],\n",
    "            })\n",
    "        countries_children.append({\"name\": country, \"children\": cities_children})\n",
    "    return countries_children"
   ]
  },
  {
   "cell_type": "code",
   "execution_count": 28,
   "metadata": {},
   "outputs": [],
   "source": [
    "regions = ['North America', \n",
    "           'Latin America', \n",
    "           'East Asia', 'South and West Asia', 'South Asia and Oceania', 'Southeast Asia and Oceania', \n",
    "           'Africa',\n",
    "           'Europe'\n",
    "          ]"
   ]
  },
  {
   "cell_type": "markdown",
   "metadata": {},
   "source": [
    "#### All the cities, even with just 1 record"
   ]
  },
  {
   "cell_type": "code",
   "execution_count": 29,
   "metadata": {},
   "outputs": [],
   "source": [
    "df_cities_all = get_cities_data(df)"
   ]
  },
  {
   "cell_type": "code",
   "execution_count": 30,
   "metadata": {},
   "outputs": [
    {
     "data": {
      "text/plain": [
       "63452904.6"
      ]
     },
     "execution_count": 30,
     "metadata": {},
     "output_type": "execute_result"
    }
   ],
   "source": [
    "df_cities_all['Total emissions (metric tonnes CO2e)'].max()"
   ]
  },
  {
   "cell_type": "code",
   "execution_count": 31,
   "metadata": {},
   "outputs": [],
   "source": [
    "region_children = []\n",
    "for region in regions:\n",
    "    countries_children = get_children_for_region(region, df_cities_all)\n",
    "    region_children.append({\"name\": region, \"children\": countries_children})\n",
    "data_for_tree = {\"name\": \"\", \"children\": region_children}"
   ]
  },
  {
   "cell_type": "code",
   "execution_count": 32,
   "metadata": {},
   "outputs": [],
   "source": [
    "with open('data_for_tree_v0.json', 'w') as outfile:\n",
    "    json.dump(data_for_tree, outfile)"
   ]
  },
  {
   "cell_type": "markdown",
   "metadata": {},
   "source": [
    "#### Cities with at least 2 records"
   ]
  },
  {
   "cell_type": "code",
   "execution_count": 33,
   "metadata": {},
   "outputs": [],
   "source": [
    "df_cities_2records = get_cities_data(df_cities_with_2_records)"
   ]
  },
  {
   "cell_type": "code",
   "execution_count": 34,
   "metadata": {},
   "outputs": [],
   "source": [
    "region_children = []\n",
    "for region in regions:\n",
    "    countries_children = get_children_for_region(region, df_cities_2records)\n",
    "    region_children.append({\"name\": region, \"children\": countries_children})\n",
    "data_for_tree = {\"name\": \"\", \"children\": region_children}"
   ]
  },
  {
   "cell_type": "code",
   "execution_count": 35,
   "metadata": {},
   "outputs": [],
   "source": [
    "with open('data_for_tree_v1.json', 'w') as outfile:\n",
    "    json.dump(data_for_tree, outfile)"
   ]
  },
  {
   "cell_type": "code",
   "execution_count": null,
   "metadata": {},
   "outputs": [],
   "source": []
  },
  {
   "cell_type": "code",
   "execution_count": null,
   "metadata": {},
   "outputs": [],
   "source": []
  }
 ],
 "metadata": {
  "kernelspec": {
   "display_name": "Python 3",
   "language": "python",
   "name": "python3"
  },
  "language_info": {
   "codemirror_mode": {
    "name": "ipython",
    "version": 3
   },
   "file_extension": ".py",
   "mimetype": "text/x-python",
   "name": "python",
   "nbconvert_exporter": "python",
   "pygments_lexer": "ipython3",
   "version": "3.8.2"
  }
 },
 "nbformat": 4,
 "nbformat_minor": 4
}
